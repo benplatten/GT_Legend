{
 "cells": [
  {
   "cell_type": "code",
   "execution_count": 1,
   "metadata": {},
   "outputs": [
    {
     "data": {
      "text/html": [
       "<style>.container { width:100% !important; }</style>"
      ],
      "text/plain": [
       "<IPython.core.display.HTML object>"
      ]
     },
     "metadata": {},
     "output_type": "display_data"
    }
   ],
   "source": [
    "from IPython.core.display import display, HTML\n",
    "display(HTML(\"<style>.container { width:100% !important; }</style>\"))"
   ]
  },
  {
   "cell_type": "code",
   "execution_count": 9,
   "metadata": {},
   "outputs": [],
   "source": [
    "import plotly\n",
    "import plotly.graph_objs as go\n",
    "plotly.tools.set_credentials_file(username='Benjamin100', api_key='YjMKMZYiBw7Xx9gNmim0')\n",
    "\n",
    "import pandas as pd\n",
    "import numpy as np\n",
    "import json\n",
    "\n",
    "\n",
    "import sitespeed_model\n",
    "from sitespeed_model import (view_URL_data)\n",
    "\n",
    "import pandas as pd\n"
   ]
  },
  {
   "cell_type": "code",
   "execution_count": 3,
   "metadata": {},
   "outputs": [
    {
     "name": "stdout",
     "output_type": "stream",
     "text": [
      "<peewee.ModelSelect object at 0x000001B9BD483BE0>\n"
     ]
    }
   ],
   "source": [
    "json_data = view_URL_data(\"https://www.reddit.com/\")"
   ]
  },
  {
   "cell_type": "code",
   "execution_count": 30,
   "metadata": {},
   "outputs": [
    {
     "data": {
      "text/html": [
       "<div>\n",
       "<style scoped>\n",
       "    .dataframe tbody tr th:only-of-type {\n",
       "        vertical-align: middle;\n",
       "    }\n",
       "\n",
       "    .dataframe tbody tr th {\n",
       "        vertical-align: top;\n",
       "    }\n",
       "\n",
       "    .dataframe thead th {\n",
       "        text-align: right;\n",
       "    }\n",
       "</style>\n",
       "<table border=\"1\" class=\"dataframe\">\n",
       "  <thead>\n",
       "    <tr style=\"text-align: right;\">\n",
       "      <th></th>\n",
       "      <th>dom_interactive_time</th>\n",
       "      <th>first_contentful_paint_time</th>\n",
       "      <th>fully_loaded_time</th>\n",
       "      <th>html_bytes</th>\n",
       "      <th>html_load_time</th>\n",
       "      <th>id</th>\n",
       "      <th>onload_time</th>\n",
       "      <th>pagespeed_score</th>\n",
       "      <th>report_url</th>\n",
       "      <th>test_date</th>\n",
       "      <th>url</th>\n",
       "      <th>yslow_score</th>\n",
       "    </tr>\n",
       "  </thead>\n",
       "  <tbody>\n",
       "    <tr>\n",
       "      <th>0</th>\n",
       "      <td>1697</td>\n",
       "      <td>1824</td>\n",
       "      <td>13641</td>\n",
       "      <td>78995</td>\n",
       "      <td>1414</td>\n",
       "      <td>1</td>\n",
       "      <td>4364</td>\n",
       "      <td>40</td>\n",
       "      <td>https://gtmetrix.com/reports/www.reddit.com/4z...</td>\n",
       "      <td>2019-03-08</td>\n",
       "      <td>https://www.reddit.com/</td>\n",
       "      <td>71</td>\n",
       "    </tr>\n",
       "  </tbody>\n",
       "</table>\n",
       "</div>"
      ],
      "text/plain": [
       "   dom_interactive_time  first_contentful_paint_time  fully_loaded_time  \\\n",
       "0                  1697                         1824              13641   \n",
       "\n",
       "   html_bytes  html_load_time  id  onload_time  pagespeed_score  \\\n",
       "0       78995            1414   1         4364               40   \n",
       "\n",
       "                                          report_url   test_date  \\\n",
       "0  https://gtmetrix.com/reports/www.reddit.com/4z...  2019-03-08   \n",
       "\n",
       "                       url  yslow_score  \n",
       "0  https://www.reddit.com/           71  "
      ]
     },
     "execution_count": 30,
     "metadata": {},
     "output_type": "execute_result"
    }
   ],
   "source": [
    "df = pd.DataFrame(json_data)\n",
    "df"
   ]
  },
  {
   "cell_type": "code",
   "execution_count": 28,
   "metadata": {},
   "outputs": [],
   "source": [
    "def create_plot(data_df):\n",
    "    df = data_df\n",
    "\n",
    "\n",
    "    data = [\n",
    "        go.Bar(\n",
    "            x=df['test_date'], # assign x as the dataframe column 'x'\n",
    "            y=df['first_contentful_paint_time']\n",
    "        )\n",
    "    ]\n",
    "\n",
    "    graphJSON = json.dumps(data, cls=plotly.utils.PlotlyJSONEncoder)\n",
    "\n",
    "    return graphJSON"
   ]
  },
  {
   "cell_type": "code",
   "execution_count": 25,
   "metadata": {},
   "outputs": [],
   "source": [
    "def create_plot1():\n",
    "\n",
    "\n",
    "    N = 40\n",
    "    x = np.linspace(0, 1, N)\n",
    "    y = np.random.randn(N)\n",
    "    df = pd.DataFrame({'x': x, 'y': y}) # creating a sample dataframe\n",
    "\n",
    "\n",
    "    data = [\n",
    "        go.Bar(\n",
    "            x=df['x'], # assign x as the dataframe column 'x'\n",
    "            y=df['y']\n",
    "        )\n",
    "    ]\n",
    "\n",
    "    graphJSON = json.dumps(data, cls=plotly.utils.PlotlyJSONEncoder)\n",
    "\n",
    "    return graphJSON"
   ]
  },
  {
   "cell_type": "code",
   "execution_count": 26,
   "metadata": {},
   "outputs": [
    {
     "data": {
      "text/plain": [
       "'[{\"x\": [0.0, 0.02564102564102564, 0.05128205128205128, 0.07692307692307693, 0.10256410256410256, 0.1282051282051282, 0.15384615384615385, 0.1794871794871795, 0.20512820512820512, 0.23076923076923075, 0.2564102564102564, 0.28205128205128205, 0.3076923076923077, 0.3333333333333333, 0.358974358974359, 0.3846153846153846, 0.41025641025641024, 0.4358974358974359, 0.4615384615384615, 0.48717948717948717, 0.5128205128205128, 0.5384615384615384, 0.5641025641025641, 0.5897435897435898, 0.6153846153846154, 0.641025641025641, 0.6666666666666666, 0.6923076923076923, 0.717948717948718, 0.7435897435897436, 0.7692307692307692, 0.7948717948717948, 0.8205128205128205, 0.8461538461538461, 0.8717948717948718, 0.8974358974358974, 0.923076923076923, 0.9487179487179487, 0.9743589743589743, 1.0], \"y\": [1.2818610709913552, -1.4662622453385508, 0.4079825184863203, 0.04686244795525348, -1.8722786845522144, 1.9380814315392152, 1.5987785207901934, 1.265041391461656, -0.49989262567399156, -0.103205685179862, 0.5231279632869132, 0.34615027146614186, -1.075251542252866, -0.8479040426683496, -0.08664068280849609, -0.9382442147136442, -1.1755164825455853, -0.10388115917300995, 1.3190309421286128, 1.888987286212289, -0.020786681576896712, -0.3795826588654627, 0.4319139503503173, 0.6207025043968042, -1.3487722175339099, -0.3038131083128443, 0.6995147609979941, -0.01456374134637306, 0.3783579796518338, 0.43448483381770425, -0.387883214212503, -0.3665049055169161, -0.5519823580220528, -1.6924099814713076, -0.24408732435383607, 0.5393983343052714, 1.3989095829873528, -0.5587742166244213, 0.4671061247306128, -0.5742174248580657], \"type\": \"bar\"}]'"
      ]
     },
     "execution_count": 26,
     "metadata": {},
     "output_type": "execute_result"
    }
   ],
   "source": [
    "create_plot1()"
   ]
  },
  {
   "cell_type": "code",
   "execution_count": 31,
   "metadata": {},
   "outputs": [
    {
     "data": {
      "text/plain": [
       "'[{\"x\": [\"2019-03-08\"], \"y\": [1824], \"type\": \"bar\"}]'"
      ]
     },
     "execution_count": 31,
     "metadata": {},
     "output_type": "execute_result"
    }
   ],
   "source": [
    "create_plot(df)"
   ]
  },
  {
   "cell_type": "code",
   "execution_count": null,
   "metadata": {},
   "outputs": [],
   "source": []
  },
  {
   "cell_type": "code",
   "execution_count": null,
   "metadata": {},
   "outputs": [],
   "source": []
  }
 ],
 "metadata": {
  "kernelspec": {
   "display_name": "Python (GT_Legend)",
   "language": "python",
   "name": "myenv"
  },
  "language_info": {
   "codemirror_mode": {
    "name": "ipython",
    "version": 3
   },
   "file_extension": ".py",
   "mimetype": "text/x-python",
   "name": "python",
   "nbconvert_exporter": "python",
   "pygments_lexer": "ipython3",
   "version": "3.7.0"
  }
 },
 "nbformat": 4,
 "nbformat_minor": 2
}
